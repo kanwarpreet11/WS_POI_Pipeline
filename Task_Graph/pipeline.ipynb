{
 "cells": [
  {
   "cell_type": "markdown",
   "metadata": {},
   "source": [
    "**Pipeline Dependency**"
   ]
  },
  {
   "cell_type": "code",
   "execution_count": 7,
   "metadata": {},
   "outputs": [],
   "source": [
    "#function to build the task path by checking dependencies at each level\n",
    "def dfs_rec(graph,start,goal,path):\n",
    "    path = path + [goal]\n",
    "    for edge in graph[goal]:\n",
    "        #tasks which are already executed are ignored\n",
    "        #and task which are prerequisite for start_task are assumed to be executed\n",
    "        if edge not in path and edge not in graph[start]:\n",
    "            if edge in graph:\n",
    "                path = dfs_rec(graph,start,edge,path)\n",
    "            else:\n",
    "                print(edge)\n",
    "                path = path + [edge]\n",
    "    print (goal)\n",
    "    return path"
   ]
  },
  {
   "cell_type": "code",
   "execution_count": 8,
   "metadata": {},
   "outputs": [
    {
     "name": "stdout",
     "output_type": "stream",
     "text": [
      "Graph of all tasks and it's prerequisite tasks:\n",
      " {102: [97, 56, 94], 31: [75, 102, 55], 37: [75, 102, 16, 55], 20: [100, 21, 73], 36: [102], 73: [39, 41], 100: [39], 112: [41], 55: [62, 56], 97: [112, 20], 94: [20], 75: [56], 56: [94]}\n",
      "\n",
      "Execution path from the start task  73 to the goal task  36  is\n",
      "112\n",
      "100\n",
      "21\n",
      "73\n",
      "20\n",
      "97\n",
      "94\n",
      "56\n",
      "102\n",
      "36\n"
     ]
    }
   ],
   "source": [
    "#creating the graph for each task and its pre-requisit tasks\n",
    "graph = {}\n",
    "with open(\"relations.txt\", \"r\") as r_file:\n",
    "     for line in r_file:\n",
    "        task_id_L = int(line.split('->')[0].strip())\n",
    "        task_id_R = int(line.split('->')[1].strip())\n",
    "        \n",
    "        if(task_id_R in graph):\n",
    "            graph[task_id_R] = graph[task_id_R] + [task_id_L]\n",
    "        else:\n",
    "            graph[task_id_R] = [task_id_L]    \n",
    "r_file.close()\n",
    "\n",
    "print(\"Graph of all tasks and it's prerequisite tasks:\\n\", graph)\n",
    "\n",
    "# getting the start and goal task from question.txt    \n",
    "f = open(\"question.txt\",\"r\")    \n",
    "start_task = int(f.readline().split(': ')[1].strip())\n",
    "goal_task = int(f.readline().split(': ')[1].strip())\n",
    "f.close()\n",
    "\n",
    "path = []\n",
    "print('\\nExecution path from the start task ', start_task, 'to the goal task ', goal_task, ' is')\n",
    "path = dfs_rec(graph,start_task,goal_task,path)"
   ]
  }
 ],
 "metadata": {
  "kernelspec": {
   "display_name": "Python 3",
   "language": "python",
   "name": "python3"
  },
  "language_info": {
   "codemirror_mode": {
    "name": "ipython",
    "version": 3
   },
   "file_extension": ".py",
   "mimetype": "text/x-python",
   "name": "python",
   "nbconvert_exporter": "python",
   "pygments_lexer": "ipython3",
   "version": "3.7.6"
  }
 },
 "nbformat": 4,
 "nbformat_minor": 4
}
